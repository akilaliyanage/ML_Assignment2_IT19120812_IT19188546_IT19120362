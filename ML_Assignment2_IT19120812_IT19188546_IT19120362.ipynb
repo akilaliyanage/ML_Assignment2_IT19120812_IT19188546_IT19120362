{
  "nbformat": 4,
  "nbformat_minor": 0,
  "metadata": {
    "colab": {
      "name": "ML_Assignment2_IT19120812_IT19188546_IT19120362.ipynb",
      "provenance": [],
      "authorship_tag": "ABX9TyPBa6z6Kzv2Gh9rIXia3H4W",
      "include_colab_link": true
    },
    "kernelspec": {
      "name": "python3",
      "display_name": "Python 3"
    },
    "language_info": {
      "name": "python"
    }
  },
  "cells": [
    {
      "cell_type": "markdown",
      "metadata": {
        "id": "view-in-github",
        "colab_type": "text"
      },
      "source": [
        "<a href=\"https://colab.research.google.com/github/akilaliyanage/ML_Assignment2_IT19120812_IT19188546_IT19120362/blob/main/ML_Assignment2_IT19120812_IT19188546_IT19120362.ipynb\" target=\"_parent\"><img src=\"https://colab.research.google.com/assets/colab-badge.svg\" alt=\"Open In Colab\"/></a>"
      ]
    },
    {
      "cell_type": "code",
      "execution_count": 1,
      "metadata": {
        "id": "Uz4df1UqziPF"
      },
      "outputs": [],
      "source": [
        "# ML_Assignment2_IT19120812_IT19188546_IT19120362"
      ]
    },
    {
      "cell_type": "code",
      "source": [
        ""
      ],
      "metadata": {
        "id": "jZ1kwIKgz3s_"
      },
      "execution_count": null,
      "outputs": []
    }
  ]
}